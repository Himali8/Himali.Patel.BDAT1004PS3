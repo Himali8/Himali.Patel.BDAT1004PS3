{
 "cells": [
  {
   "cell_type": "markdown",
   "id": "5fee5526",
   "metadata": {},
   "source": [
    "# Create a vertical bar chart comparing the number of marriages and divorces per capita in the U.S. between 1900, 1950, and 2000. Don't forget to label your axes!"
   ]
  },
  {
   "cell_type": "code",
   "execution_count": 1,
   "id": "ad43f6a0",
   "metadata": {},
   "outputs": [],
   "source": [
    "import pandas as pd\n",
    "import numpy as np\n",
    "import matplotlib.pyplot as plt"
   ]
  },
  {
   "cell_type": "code",
   "execution_count": 2,
   "id": "69fdf17e",
   "metadata": {},
   "outputs": [
    {
     "data": {
      "text/html": [
       "<div>\n",
       "<style scoped>\n",
       "    .dataframe tbody tr th:only-of-type {\n",
       "        vertical-align: middle;\n",
       "    }\n",
       "\n",
       "    .dataframe tbody tr th {\n",
       "        vertical-align: top;\n",
       "    }\n",
       "\n",
       "    .dataframe thead th {\n",
       "        text-align: right;\n",
       "    }\n",
       "</style>\n",
       "<table border=\"1\" class=\"dataframe\">\n",
       "  <thead>\n",
       "    <tr style=\"text-align: right;\">\n",
       "      <th></th>\n",
       "      <th>Year</th>\n",
       "      <th>Marriages_per_1000</th>\n",
       "      <th>Divorces_per_1000</th>\n",
       "    </tr>\n",
       "  </thead>\n",
       "  <tbody>\n",
       "    <tr>\n",
       "      <th>33</th>\n",
       "      <td>1900</td>\n",
       "      <td>9.3</td>\n",
       "      <td>0.7</td>\n",
       "    </tr>\n",
       "    <tr>\n",
       "      <th>83</th>\n",
       "      <td>1950</td>\n",
       "      <td>11.0</td>\n",
       "      <td>2.5</td>\n",
       "    </tr>\n",
       "    <tr>\n",
       "      <th>133</th>\n",
       "      <td>2000</td>\n",
       "      <td>8.2</td>\n",
       "      <td>3.3</td>\n",
       "    </tr>\n",
       "  </tbody>\n",
       "</table>\n",
       "</div>"
      ],
      "text/plain": [
       "     Year  Marriages_per_1000  Divorces_per_1000\n",
       "33   1900                 9.3                0.7\n",
       "83   1950                11.0                2.5\n",
       "133  2000                 8.2                3.3"
      ]
     },
     "execution_count": 2,
     "metadata": {},
     "output_type": "execute_result"
    }
   ],
   "source": [
    "us= pd.read_csv('us-marriages-divorces-1867-2014.csv')\n",
    "a = us.loc[us.Year.isin([1900,1950,2000]),['Year','Marriages_per_1000','Divorces_per_1000']]\n",
    "a"
   ]
  },
  {
   "cell_type": "code",
   "execution_count": 3,
   "id": "5ec2e9bc",
   "metadata": {},
   "outputs": [
    {
     "data": {
      "text/plain": [
       "<matplotlib.legend.Legend at 0x1f7bf434e50>"
      ]
     },
     "execution_count": 3,
     "metadata": {},
     "output_type": "execute_result"
    },
    {
     "data": {
      "image/png": "[encoded data removed]",
      "text/plain": [
       "<Figure size 432x288 with 1 Axes>"
      ]
     },
     "metadata": {
      "needs_background": "light"
     },
     "output_type": "display_data"
    }
   ],
   "source": [
    "a = a[a['Year'].apply(lambda x: x in [1900, 1950, 2000])]\n",
    "years = a['Year']\n",
    "marriages = a['Marriages_per_1000']\n",
    "divorces = a['Divorces_per_1000']\n",
    "a = plt.bar(years, marriages, label ='Marriages')\n",
    "a = plt.bar(years, divorces, label = 'Divorces')\n",
    "a = plt.title(\"marriages and divorces per capita in the U.S. between 1990,1950 and 2000\", fontsize=16)\n",
    "a = plt.xlabel(\"Years\", fontsize=14)\n",
    "a = plt.legend(fontsize = 12, loc = \"upper right\")\n",
    "a"
   ]
  }
 ],
 "metadata": {
  "kernelspec": {
   "display_name": "Python 3 (ipykernel)",
   "language": "python",
   "name": "python3"
  },
  "language_info": {
   "codemirror_mode": {
    "name": "ipython",
    "version": 3
   },
   "file_extension": ".py",
   "mimetype": "text/x-python",
   "name": "python",
   "nbconvert_exporter": "python",
   "pygments_lexer": "ipython3",
   "version": "3.9.12"
  }
 },
 "nbformat": 4,
 "nbformat_minor": 5
}
